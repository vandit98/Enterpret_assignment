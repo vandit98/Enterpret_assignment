{
 "cells": [
  {
   "cell_type": "markdown",
   "metadata": {},
   "source": [
    "# Exploratory Data Extraction"
   ]
  },
  {
   "cell_type": "markdown",
   "metadata": {},
   "source": [
    "## Dependencies"
   ]
  },
  {
   "cell_type": "code",
   "execution_count": 7,
   "metadata": {},
   "outputs": [],
   "source": [
    "!pip install numpy pandas matplotlib nltk  seaborn scikit-learn --quiet"
   ]
  },
  {
   "cell_type": "markdown",
   "metadata": {},
   "source": [
    "## Imports"
   ]
  },
  {
   "cell_type": "code",
   "execution_count": 1,
   "metadata": {},
   "outputs": [],
   "source": [
    "import numpy as np\n",
    "import pandas as pd\n",
    "import matplotlib.pyplot as plt\n",
    "import seaborn as sns\n",
    "import string\n",
    "import re\n",
    "import nltk\n",
    "\n",
    "from tqdm import trange\n",
    "from nltk import tokenize\n",
    "from nltk.corpus import stopwords\n",
    "from nltk.stem import WordNetLemmatizer\n",
    "from nltk.probability import FreqDist\n",
    "from collections import Counter\n",
    "from sklearn.feature_extraction.text import CountVectorizer"
   ]
  },
  {
   "cell_type": "code",
   "execution_count": 2,
   "metadata": {},
   "outputs": [],
   "source": [
    "import warnings\n",
    "warnings.filterwarnings('ignore')\n",
    "nltk.download('omw-1.4', quiet=True)\n",
    "sns.set_style('darkgrid')\n",
    "plt.rcParams['figure.figsize'] = (17,7)\n",
    "plt.rcParams['font.size'] = 18"
   ]
  },
  {
   "cell_type": "markdown",
   "metadata": {},
   "source": [
    "## Macros"
   ]
  },
  {
   "cell_type": "code",
   "execution_count": 5,
   "metadata": {},
   "outputs": [],
   "source": [
    "roi_column = \"Content\"\n",
    "\n",
    "req_columns = ['ID', 'URL', 'Source', 'Type', 'CreatedAt', 'Language', 'Record Sentiment', 'Tracked Keywords', 'Reasons', 'Content']"
   ]
  },
  {
   "cell_type": "markdown",
   "metadata": {},
   "source": [
    "## Helper Class and Functions"
   ]
  },
  {
   "cell_type": "code",
   "execution_count": 3,
   "metadata": {},
   "outputs": [],
   "source": [
    "class PATH:\n",
    "    data_path = \"./enterpret.csv\""
   ]
  },
  {
   "cell_type": "markdown",
   "metadata": {},
   "source": [
    "## Loading Data"
   ]
  },
  {
   "cell_type": "code",
   "execution_count": 6,
   "metadata": {},
   "outputs": [
    {
     "data": {
      "text/html": [
       "<div>\n",
       "<style scoped>\n",
       "    .dataframe tbody tr th:only-of-type {\n",
       "        vertical-align: middle;\n",
       "    }\n",
       "\n",
       "    .dataframe tbody tr th {\n",
       "        vertical-align: top;\n",
       "    }\n",
       "\n",
       "    .dataframe thead th {\n",
       "        text-align: right;\n",
       "    }\n",
       "</style>\n",
       "<table border=\"1\" class=\"dataframe\">\n",
       "  <thead>\n",
       "    <tr style=\"text-align: right;\">\n",
       "      <th></th>\n",
       "      <th>ID</th>\n",
       "      <th>URL</th>\n",
       "      <th>Source</th>\n",
       "      <th>Type</th>\n",
       "      <th>CreatedAt</th>\n",
       "      <th>Language</th>\n",
       "      <th>Record Sentiment</th>\n",
       "      <th>Tracked Keywords</th>\n",
       "      <th>Reasons</th>\n",
       "      <th>Content</th>\n",
       "    </tr>\n",
       "  </thead>\n",
       "  <tbody>\n",
       "    <tr>\n",
       "      <th>0</th>\n",
       "      <td>e0e5cedb-2da1-5476-bfef-366eebc71656</td>\n",
       "      <td>https://dashboard.enterpret.com/enterpretinc/r...</td>\n",
       "      <td>Slack</td>\n",
       "      <td>RecordTypeConversation</td>\n",
       "      <td>2024-01-12T22:28:45Z</td>\n",
       "      <td>eng</td>\n",
       "      <td>NEGATIVE</td>\n",
       "      <td>NaN</td>\n",
       "      <td>Issue With Decreased Feedback Volume From Sources</td>\n",
       "      <td>Agent: Mike McNasby jil It looks like the volu...</td>\n",
       "    </tr>\n",
       "    <tr>\n",
       "      <th>1</th>\n",
       "      <td>a879cfc1-120c-5a69-b059-5820f08abae3</td>\n",
       "      <td>https://dashboard.enterpret.com/enterpretinc/r...</td>\n",
       "      <td>Gong</td>\n",
       "      <td>RecordTypeAudioRecording</td>\n",
       "      <td>2024-01-12T21:39:45Z</td>\n",
       "      <td>eng</td>\n",
       "      <td>NaN</td>\n",
       "      <td>Feedback, Integration, Quantify, Reporting, Sl...</td>\n",
       "      <td>Ability To Filter Information In Zendesk, Help...</td>\n",
       "      <td>&lt;AUDIO_CONTENT&gt;</td>\n",
       "    </tr>\n",
       "    <tr>\n",
       "      <th>2</th>\n",
       "      <td>69949ac0-6280-5a97-be88-315985fe2cbc</td>\n",
       "      <td>https://dashboard.enterpret.com/enterpretinc/r...</td>\n",
       "      <td>Slack</td>\n",
       "      <td>RecordTypeConversation</td>\n",
       "      <td>2024-01-12T20:57:40Z</td>\n",
       "      <td>eng</td>\n",
       "      <td>NEUTRAL</td>\n",
       "      <td>Schedule</td>\n",
       "      <td>NaN</td>\n",
       "      <td>User: Adding Daniela González, Emma's ExecOps ...</td>\n",
       "    </tr>\n",
       "    <tr>\n",
       "      <th>3</th>\n",
       "      <td>7396e171-235d-5cd4-af82-7b8d4c70ce76</td>\n",
       "      <td>https://dashboard.enterpret.com/enterpretinc/r...</td>\n",
       "      <td>Salesforce - Opportunity</td>\n",
       "      <td>RecordTypeSurvey</td>\n",
       "      <td>2024-01-12T20:57:28Z</td>\n",
       "      <td>eng</td>\n",
       "      <td>NEGATIVE</td>\n",
       "      <td>Feedback</td>\n",
       "      <td>Issue With Low Volume, Issue With Feedback Goi...</td>\n",
       "      <td>Closed Lost Notes\\nNot enough volume, not enou...</td>\n",
       "    </tr>\n",
       "    <tr>\n",
       "      <th>4</th>\n",
       "      <td>6794583a-f498-5904-925e-08b826581709</td>\n",
       "      <td>https://dashboard.enterpret.com/enterpretinc/r...</td>\n",
       "      <td>Gong</td>\n",
       "      <td>RecordTypeAudioRecording</td>\n",
       "      <td>2024-01-12T20:01:16Z</td>\n",
       "      <td>eng</td>\n",
       "      <td>NaN</td>\n",
       "      <td>Product Design, Feedback, Enterpret, Survey, D...</td>\n",
       "      <td>Ability To Get More Detailed Feedback, Ability...</td>\n",
       "      <td>&lt;AUDIO_CONTENT&gt;</td>\n",
       "    </tr>\n",
       "  </tbody>\n",
       "</table>\n",
       "</div>"
      ],
      "text/plain": [
       "                                     ID  \\\n",
       "0  e0e5cedb-2da1-5476-bfef-366eebc71656   \n",
       "1  a879cfc1-120c-5a69-b059-5820f08abae3   \n",
       "2  69949ac0-6280-5a97-be88-315985fe2cbc   \n",
       "3  7396e171-235d-5cd4-af82-7b8d4c70ce76   \n",
       "4  6794583a-f498-5904-925e-08b826581709   \n",
       "\n",
       "                                                 URL  \\\n",
       "0  https://dashboard.enterpret.com/enterpretinc/r...   \n",
       "1  https://dashboard.enterpret.com/enterpretinc/r...   \n",
       "2  https://dashboard.enterpret.com/enterpretinc/r...   \n",
       "3  https://dashboard.enterpret.com/enterpretinc/r...   \n",
       "4  https://dashboard.enterpret.com/enterpretinc/r...   \n",
       "\n",
       "                     Source                      Type             CreatedAt  \\\n",
       "0                     Slack    RecordTypeConversation  2024-01-12T22:28:45Z   \n",
       "1                      Gong  RecordTypeAudioRecording  2024-01-12T21:39:45Z   \n",
       "2                     Slack    RecordTypeConversation  2024-01-12T20:57:40Z   \n",
       "3  Salesforce - Opportunity          RecordTypeSurvey  2024-01-12T20:57:28Z   \n",
       "4                      Gong  RecordTypeAudioRecording  2024-01-12T20:01:16Z   \n",
       "\n",
       "  Language Record Sentiment  \\\n",
       "0      eng         NEGATIVE   \n",
       "1      eng              NaN   \n",
       "2      eng          NEUTRAL   \n",
       "3      eng         NEGATIVE   \n",
       "4      eng              NaN   \n",
       "\n",
       "                                    Tracked Keywords  \\\n",
       "0                                                NaN   \n",
       "1  Feedback, Integration, Quantify, Reporting, Sl...   \n",
       "2                                           Schedule   \n",
       "3                                           Feedback   \n",
       "4  Product Design, Feedback, Enterpret, Survey, D...   \n",
       "\n",
       "                                             Reasons  \\\n",
       "0  Issue With Decreased Feedback Volume From Sources   \n",
       "1  Ability To Filter Information In Zendesk, Help...   \n",
       "2                                                NaN   \n",
       "3  Issue With Low Volume, Issue With Feedback Goi...   \n",
       "4  Ability To Get More Detailed Feedback, Ability...   \n",
       "\n",
       "                                             Content  \n",
       "0  Agent: Mike McNasby jil It looks like the volu...  \n",
       "1                                    <AUDIO_CONTENT>  \n",
       "2  User: Adding Daniela González, Emma's ExecOps ...  \n",
       "3  Closed Lost Notes\\nNot enough volume, not enou...  \n",
       "4                                    <AUDIO_CONTENT>  "
      ]
     },
     "execution_count": 6,
     "metadata": {},
     "output_type": "execute_result"
    }
   ],
   "source": [
    "data = pd.read_csv(PATH.data_path)[req_columns]\n",
    "data.head()"
   ]
  },
  {
   "cell_type": "code",
   "execution_count": 7,
   "metadata": {},
   "outputs": [
    {
     "data": {
      "text/plain": [
       "((904, 10),\n",
       " Index(['ID', 'URL', 'Source', 'Type', 'CreatedAt', 'Language',\n",
       "        'Record Sentiment', 'Tracked Keywords', 'Reasons', 'Content'],\n",
       "       dtype='object'))"
      ]
     },
     "execution_count": 7,
     "metadata": {},
     "output_type": "execute_result"
    }
   ],
   "source": [
    "data.shape, data.columns"
   ]
  },
  {
   "cell_type": "code",
   "execution_count": 8,
   "metadata": {},
   "outputs": [
    {
     "data": {
      "text/plain": [
       "Content\n",
       "<AUDIO_CONTENT>                                    507\n",
       "NaN                                                 44\n",
       "Agent: Saurabh Arora has joined the channel\\n\\n      3\n",
       "Name: count, dtype: int64"
      ]
     },
     "execution_count": 8,
     "metadata": {},
     "output_type": "execute_result"
    }
   ],
   "source": [
    "data[roi_column].value_counts(dropna=False)[:3]"
   ]
  },
  {
   "cell_type": "markdown",
   "metadata": {},
   "source": [
    "### OBservation - 1 \n",
    "504 Audoi Content + 44 Null content -   cannot be processed due to being NaN and having Audio Content."
   ]
  },
  {
   "cell_type": "code",
   "execution_count": 9,
   "metadata": {},
   "outputs": [
    {
     "data": {
      "text/plain": [
       "1      Feedback, Integration, Quantify, Reporting, Sl...\n",
       "4      Product Design, Feedback, Enterpret, Survey, D...\n",
       "5      Reporting, Search, Reason, Design, Summary, Ch...\n",
       "6      Enterpret, Zendesk, Data, Feedback, Chat, Emai...\n",
       "7      Enterpret, Customer, Feedback, Channel, Slack,...\n",
       "                             ...                        \n",
       "895                                                  NaN\n",
       "896    Enterpret, Customer, Feedback, Taxonomy, Sales...\n",
       "898    Tickets, Sentiment, Product Design, Feedback, ...\n",
       "901    Feedback, Reason, Enterpret, Product Design, T...\n",
       "902    Onboarding, Tickets, Product Design, Enterpret...\n",
       "Name: Tracked Keywords, Length: 507, dtype: object"
      ]
     },
     "execution_count": 9,
     "metadata": {},
     "output_type": "execute_result"
    }
   ],
   "source": [
    "data[data[roi_column] == \"<AUDIO_CONTENT>\"][\"Tracked Keywords\"]"
   ]
  },
  {
   "cell_type": "markdown",
   "metadata": {},
   "source": [
    "### Observation - 2 "
   ]
  },
  {
   "cell_type": "markdown",
   "metadata": {},
   "source": [
    "## Preprocessing"
   ]
  },
  {
   "cell_type": "markdown",
   "metadata": {},
   "source": [
    "### Dropping null and audio content ones"
   ]
  },
  {
   "cell_type": "code",
   "execution_count": 10,
   "metadata": {},
   "outputs": [],
   "source": [
    "filtered_data = data[(data[roi_column] != \"<AUDIO_CONTENT>\") & (data[roi_column].notnull())]"
   ]
  },
  {
   "cell_type": "code",
   "execution_count": 11,
   "metadata": {},
   "outputs": [
    {
     "data": {
      "text/plain": [
       "(353, 10)"
      ]
     },
     "execution_count": 11,
     "metadata": {},
     "output_type": "execute_result"
    }
   ],
   "source": [
    "filtered_data.shape"
   ]
  },
  {
   "cell_type": "code",
   "execution_count": 12,
   "metadata": {},
   "outputs": [
    {
     "data": {
      "text/plain": [
       "Index(['ID', 'URL', 'Source', 'Type', 'CreatedAt', 'Language',\n",
       "       'Record Sentiment', 'Tracked Keywords', 'Reasons', 'Content'],\n",
       "      dtype='object')"
      ]
     },
     "execution_count": 12,
     "metadata": {},
     "output_type": "execute_result"
    }
   ],
   "source": [
    "filtered_data.columns"
   ]
  },
  {
   "cell_type": "code",
   "execution_count": 13,
   "metadata": {},
   "outputs": [],
   "source": [
    "filtered_data.to_csv(\"raw_data.csv\", index=False)"
   ]
  },
  {
   "cell_type": "code",
   "execution_count": 14,
   "metadata": {},
   "outputs": [],
   "source": [
    "data = pd.read_csv(\"./filtered_output.csv\")"
   ]
  },
  {
   "cell_type": "code",
   "execution_count": 18,
   "metadata": {},
   "outputs": [
    {
     "data": {
      "text/plain": [
       "Index(['ID', 'Conversation', 'Metadata'], dtype='object')"
      ]
     },
     "execution_count": 18,
     "metadata": {},
     "output_type": "execute_result"
    }
   ],
   "source": [
    "data.columns"
   ]
  },
  {
   "cell_type": "code",
   "execution_count": null,
   "metadata": {},
   "outputs": [],
   "source": []
  }
 ],
 "metadata": {
  "kernelspec": {
   "display_name": "enterpret",
   "language": "python",
   "name": "python3"
  },
  "language_info": {
   "codemirror_mode": {
    "name": "ipython",
    "version": 3
   },
   "file_extension": ".py",
   "mimetype": "text/x-python",
   "name": "python",
   "nbconvert_exporter": "python",
   "pygments_lexer": "ipython3",
   "version": "3.12.0"
  }
 },
 "nbformat": 4,
 "nbformat_minor": 2
}
